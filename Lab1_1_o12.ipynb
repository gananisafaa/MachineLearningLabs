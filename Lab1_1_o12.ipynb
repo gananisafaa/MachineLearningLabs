{
 "cells": [
  {
   "cell_type": "markdown",
   "id": "36440a01",
   "metadata": {},
   "source": [
    "# Lab11: Programmation classique sous python"
   ]
  },
  {
   "cell_type": "code",
   "execution_count": 1,
   "id": "803857c5",
   "metadata": {},
   "outputs": [
    {
     "name": "stdout",
     "output_type": "stream",
     "text": [
      "Assalamu 3alaykum\n"
     ]
    }
   ],
   "source": [
    "print(\"Assalamu 3alaykum\")"
   ]
  },
  {
   "cell_type": "markdown",
   "id": "1044bc47",
   "metadata": {},
   "source": [
    "### Afficher un nombre aléatoire entre 1 et 6"
   ]
  },
  {
   "cell_type": "code",
   "execution_count": 4,
   "id": "7208cc1e",
   "metadata": {},
   "outputs": [
    {
     "name": "stdout",
     "output_type": "stream",
     "text": [
      "3\n"
     ]
    }
   ],
   "source": [
    "from random import randint\n",
    "print(randint(1,6))"
   ]
  },
  {
   "cell_type": "markdown",
   "id": "245775cb",
   "metadata": {},
   "source": [
    "### Choisir un nom aléatoire à partir d'une liste\n"
   ]
  },
  {
   "cell_type": "code",
   "execution_count": 5,
   "id": "3cbe70e7",
   "metadata": {},
   "outputs": [
    {
     "name": "stdout",
     "output_type": "stream",
     "text": [
      "safaa\n"
     ]
    }
   ],
   "source": [
    "from random import choice\n",
    "list = [\"asmaa\",\"safaa\",\"oumaima\",\"omar\",\"lahssen\"]\n",
    "print(choice(list))"
   ]
  },
  {
   "cell_type": "markdown",
   "id": "924a3e7a",
   "metadata": {},
   "source": [
    "### Afficher une image aléatoire à partir d'une list"
   ]
  },
  {
   "cell_type": "code",
   "execution_count": 11,
   "id": "89faa3a7",
   "metadata": {},
   "outputs": [
    {
     "name": "stdout",
     "output_type": "stream",
     "text": [
      "Name: kerem\n"
     ]
    },
    {
     "data": {
      "image/jpeg": "[encoded data removed]",
      "text/plain": [
       "<IPython.core.display.Image object>"
      ]
     },
     "metadata": {},
     "output_type": "display_data"
    }
   ],
   "source": [
    "from random import choice\n",
    "from IPython.display import Image, display\n",
    "list = [\"elon\",\"aras\",\"kerem\",\"bill\"]\n",
    "name=choice(list)\n",
    "print(\"Name:\",name)\n",
    "display(Image(filename=\"Photo/\"+name+\".jpg\"))"
   ]
  },
  {
   "cell_type": "code",
   "execution_count": 17,
   "id": "49d31abb",
   "metadata": {},
   "outputs": [
    {
     "name": "stdout",
     "output_type": "stream",
     "text": [
      "Name: kerem\n"
     ]
    },
    {
     "data": {
      "image/jpeg": "[encoded data removed]",
      "text/plain": [
       "<IPython.core.display.Image object>"
      ]
     },
     "metadata": {},
     "output_type": "display_data"
    },
    {
     "name": "stdout",
     "output_type": "stream",
     "text": [
      "nextq\n",
      "End\n"
     ]
    }
   ],
   "source": [
    "from random import choice\n",
    "from IPython.display import Image, display\n",
    "list = [\"elon\",\"aras\",\"kerem\",\"bill\"]\n",
    "x=''\n",
    "while list and x != 'q':\n",
    "    name=choice(list)\n",
    "    print(\"Name:\",name)\n",
    "    display(Image(filename=\"Photo/\"+name+\".jpg\"))\n",
    "    list.remove(name)\n",
    "    x=input(\"next\")\n",
    "print(\"End\")"
   ]
  },
  {
   "cell_type": "code",
   "execution_count": 18,
   "id": "35aa713d",
   "metadata": {},
   "outputs": [
    {
     "ename": "ModuleNotFoundError",
     "evalue": "No module named 'dircache'",
     "output_type": "error",
     "traceback": [
      "\u001b[1;31m---------------------------------------------------------------------------\u001b[0m",
      "\u001b[1;31mModuleNotFoundError\u001b[0m                       Traceback (most recent call last)",
      "\u001b[1;32m~\\AppData\\Local\\Temp/ipykernel_13288/3803843496.py\u001b[0m in \u001b[0;36m<module>\u001b[1;34m\u001b[0m\n\u001b[1;32m----> 1\u001b[1;33m \u001b[1;32mimport\u001b[0m \u001b[0mdircache\u001b[0m\u001b[1;33m\u001b[0m\u001b[1;33m\u001b[0m\u001b[0m\n\u001b[0m\u001b[0;32m      2\u001b[0m \u001b[0mdir\u001b[0m \u001b[1;33m=\u001b[0m \u001b[1;34m'Desktop'\u001b[0m\u001b[1;33m\u001b[0m\u001b[1;33m\u001b[0m\u001b[0m\n\u001b[0;32m      3\u001b[0m \u001b[0mfilename\u001b[0m \u001b[1;33m=\u001b[0m \u001b[0mrandom\u001b[0m\u001b[1;33m.\u001b[0m\u001b[0mchoice\u001b[0m\u001b[1;33m(\u001b[0m\u001b[0mdircache\u001b[0m\u001b[1;33m.\u001b[0m\u001b[0mlistdir\u001b[0m\u001b[1;33m(\u001b[0m\u001b[0mdir\u001b[0m\u001b[1;33m)\u001b[0m\u001b[1;33m)\u001b[0m\u001b[1;33m\u001b[0m\u001b[1;33m\u001b[0m\u001b[0m\n\u001b[0;32m      4\u001b[0m \u001b[0mpath\u001b[0m \u001b[1;33m=\u001b[0m \u001b[0mos\u001b[0m\u001b[1;33m.\u001b[0m\u001b[0mpath\u001b[0m\u001b[1;33m.\u001b[0m\u001b[0mjoin\u001b[0m\u001b[1;33m(\u001b[0m\u001b[0mdir\u001b[0m\u001b[1;33m,\u001b[0m \u001b[0mfilename\u001b[0m\u001b[1;33m)\u001b[0m\u001b[1;33m\u001b[0m\u001b[1;33m\u001b[0m\u001b[0m\n",
      "\u001b[1;31mModuleNotFoundError\u001b[0m: No module named 'dircache'"
     ]
    }
   ],
   "source": [
    "import dircache\n",
    "dir = 'Desktop'\n",
    "filename = random.choice(dircache.listdir(dir))\n",
    "path = os.path.join(dir, filename)\n",
    "from random import choice\n",
    "from IPython.display import Image, display\n",
    "list = [\"elon\",\"aras\",\"kerem\",\"bill\"]\n",
    "x=''\n",
    "while list and x != 'q':\n",
    "    name=choice(list)\n",
    "    print(\"Name:\",name)\n",
    "    display(Image(filename=\"Photo/\"+name+\".jpg\"))\n",
    "    list.remove(name)\n",
    "    x=input(\"next\")\n",
    "print(\"End\")"
   ]
  },
  {
   "cell_type": "code",
   "execution_count": null,
   "id": "850ce29c",
   "metadata": {},
   "outputs": [],
   "source": []
  }
 ],
 "metadata": {
  "kernelspec": {
   "display_name": "Python 3 (ipykernel)",
   "language": "python",
   "name": "python3"
  },
  "language_info": {
   "codemirror_mode": {
    "name": "ipython",
    "version": 3
   },
   "file_extension": ".py",
   "mimetype": "text/x-python",
   "name": "python",
   "nbconvert_exporter": "python",
   "pygments_lexer": "ipython3",
   "version": "3.8.12"
  }
 },
 "nbformat": 4,
 "nbformat_minor": 5
}
